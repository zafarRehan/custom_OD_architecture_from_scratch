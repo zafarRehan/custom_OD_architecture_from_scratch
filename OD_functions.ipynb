{
 "cells": [
  {
   "cell_type": "code",
   "execution_count": 62,
   "id": "0ea28ed0-3169-421b-8cda-b76c10e8c8c6",
   "metadata": {},
   "outputs": [],
   "source": [
    "import tensorflow as tf\n",
    "import numpy as np\n",
    "import cv2\n",
    "\n",
    "from tensorflow.python.ops.numpy_ops import np_config\n",
    "np_config.enable_numpy_behavior()\n",
    "# tf.enable_eager_execution()"
   ]
  },
  {
   "cell_type": "code",
   "execution_count": 178,
   "id": "9c9e05fa-e4fc-447b-bd56-3d02a80fda85",
   "metadata": {},
   "outputs": [],
   "source": [
    "img = cv2.imread('dog-facts-cat-facts.jpg')\n",
    "img = cv2.resize(img, (4, 3))"
   ]
  },
  {
   "cell_type": "code",
   "execution_count": 179,
   "id": "1168bdc7-d010-4415-bfab-c4ac7d949c16",
   "metadata": {},
   "outputs": [
    {
     "name": "stdout",
     "output_type": "stream",
     "text": [
      "3 4\n",
      "(3, 4)\n"
     ]
    }
   ],
   "source": [
    "h, w = img.shape[:2]\n",
    "print(h, w)\n",
    "# X = (size=(1, 3, h, w))  # Construct input data\n",
    "X = tf.convert_to_tensor(img.reshape(-1, h, w, 3))\n",
    "print(X.shape[-3:-1])"
   ]
  },
  {
   "cell_type": "code",
   "execution_count": 180,
   "id": "f03eddb5-0739-435f-bd8a-3e43f50d9859",
   "metadata": {},
   "outputs": [],
   "source": [
    "def multibox_prior(X, sizes, ratios):\n",
    "    in_height, in_width = X.shape[-3:-1]\n",
    "    num_sizes, num_ratios = len(sizes), len(ratios)\n",
    "    boxes_per_pixel = (num_sizes + num_ratios - 1)\n",
    "    size_tensor = tf.Variable(sizes)\n",
    "    ratio_tensor = tf.Variable(ratios)\n",
    "    # Offsets are required to move the anchor to the center of a pixel. Since\n",
    "    # a pixel has height=1 and width=1, we choose to offset our centers by 0.5\n",
    "    offset_h, offset_w = 0.5, 0.5\n",
    "    steps_h = 1.0 / in_height  # Scaled steps in y axis\n",
    "    steps_w = 1.0 / in_width  # Scaled steps in x axis\n",
    "    # print(\"steps_h, steps_w\", steps_h, steps_w)\n",
    "\n",
    "    # Generate all center points for the anchor boxes\n",
    "    center_h = (tf.range(in_height, dtype=tf.float32) + offset_h) * steps_h\n",
    "    center_w = (tf.range(in_width, dtype=tf.float32) + offset_w) * steps_w\n",
    "    shift_y, shift_x = tf.meshgrid(center_h, center_w, indexing='ij')\n",
    "    shift_y, shift_x = shift_y.reshape(-1), shift_x.reshape(-1)\n",
    "    # print(\"center_h, center_w\", center_h, center_w)\n",
    "    # print(\"shift_y, shift_x\", shift_y, shift_x)\n",
    "\n",
    "    # Generate `boxes_per_pixel` number of heights and widths that are later\n",
    "    # used to create anchor box corner coordinates (xmin, xmax, ymin, ymax)\n",
    "    w = tf.concat((size_tensor * tf.sqrt(ratio_tensor[0]), sizes[0] * tf.sqrt(ratio_tensor[1:])), axis=0) * in_height / in_width  # Handle rectangular inputs\n",
    "    h = tf.concat((size_tensor / tf.sqrt(ratio_tensor[0]), sizes[0] / tf.sqrt(ratio_tensor[1:])), axis=0)\n",
    "    # print(w, h)\n",
    "    # Divide by 2 to get half height and half width\n",
    "    # print(type(tf.stack((-w, -h, w, h)).T.numpy()))\n",
    "    # return\n",
    "    anchor_manipulations = np.tile(tf.stack((-w, -h, w, h), axis=0).numpy(), in_height * in_width) / 2\n",
    "    anchor_manipulations = anchor_manipulations.T\n",
    "    # print('anchor_manipulations: ', anchor_manipulations.shape)\n",
    "    # print(anchor_manipulations)\n",
    "    # Each center point will have `boxes_per_pixel` number of anchor boxes, so\n",
    "    # generate a grid of all anchor box centers with `boxes_per_pixel` repeats\n",
    "    # print('outgrid: ', tf.stack([shift_x, shift_y, shift_x, shift_y], axis=1).numpy().repeat(boxes_per_pixel, 0))\n",
    "    out_grid = tf.stack([shift_x, shift_y, shift_x, shift_y], axis=1).numpy().repeat(boxes_per_pixel, 0)\n",
    "    output = out_grid + anchor_manipulations\n",
    "    print('output: ', output.shape)\n",
    "    # print(output)\n",
    "    return tf.expand_dims(output, 0)"
   ]
  },
  {
   "cell_type": "code",
   "execution_count": 181,
   "id": "e80ec409-9b7f-4880-a063-cfb4bc8dfd7b",
   "metadata": {},
   "outputs": [
    {
     "name": "stdout",
     "output_type": "stream",
     "text": [
      "output:  (60, 4)\n"
     ]
    },
    {
     "data": {
      "text/plain": [
       "TensorShape([1, 60, 4])"
      ]
     },
     "execution_count": 181,
     "metadata": {},
     "output_type": "execute_result"
    }
   ],
   "source": [
    "Y = multibox_prior(X, sizes=[0.75, 0.5, 0.25], ratios=[1, 2, 0.5])\n",
    "Y.shape"
   ]
  },
  {
   "cell_type": "code",
   "execution_count": 182,
   "id": "c5d7ec28-c060-4586-8a59-c86c61a050d4",
   "metadata": {},
   "outputs": [
    {
     "name": "stdout",
     "output_type": "stream",
     "text": [
      "(3, 4, 5, 4)\n"
     ]
    },
    {
     "data": {
      "text/plain": [
       "<tf.Tensor: shape=(4,), dtype=float32, numpy=array([0.34375   , 0.45833337, 0.90625   , 1.2083334 ], dtype=float32)>"
      ]
     },
     "execution_count": 182,
     "metadata": {},
     "output_type": "execute_result"
    }
   ],
   "source": [
    "boxes = Y.reshape(h, w, 5, 4)\n",
    "print(boxes.shape)\n",
    "boxes[2, 2, 0, :]"
   ]
  },
  {
   "cell_type": "code",
   "execution_count": 208,
   "id": "a4728064-da0c-46ee-838b-0c03705fbc45",
   "metadata": {},
   "outputs": [],
   "source": [
    "## TODO: check for working\n",
    "\n",
    "def box_iou(boxes1, boxes2):\n",
    "    \"\"\"Compute pairwise IoU across two lists of anchor or bounding boxes.\"\"\"\n",
    "    box_area = lambda boxes: ((boxes[:, 2] - boxes[:, 0]) *\n",
    "                              (boxes[:, 3] - boxes[:, 1]))\n",
    "    # Shape of `boxes1`, `boxes2`, `areas1`, `areas2`: (no. of boxes1, 4),\n",
    "    # (no. of boxes2, 4), (no. of boxes1,), (no. of boxes2,)\n",
    "    areas1 = box_area(boxes1)\n",
    "    areas2 = box_area(boxes2)\n",
    "    # Shape of `inter_upperlefts`, `inter_lowerrights`, `inters`: (no. of\n",
    "    # boxes1, no. of boxes2, 2)\n",
    "    inter_upperlefts = tf.math.maximum(boxes1[:, None, :2], boxes2[:, :2])\n",
    "    inter_lowerrights = tf.math.minimum(boxes1[:, None, 2:], boxes2[:, 2:])\n",
    "    inters = (inter_lowerrights - inter_upperlefts).numpy().clip(min=0)\n",
    "    # print(inters)\n",
    "    # Shape of `inter_areas` and `union_areas`: (no. of boxes1, no. of boxes2)\n",
    "    inter_areas = inters[:, :, 0] * inters[:, :, 1]\n",
    "    union_areas = areas1[:, None] + areas2 - inter_areas\n",
    "    return inter_areas / union_areas"
   ]
  },
  {
   "cell_type": "code",
   "execution_count": 337,
   "id": "1ba84213-38cd-4640-a398-6214667326f4",
   "metadata": {},
   "outputs": [],
   "source": [
    "def assign_anchor_to_bbox(ground_truth, anchors, iou_threshold=0.4):\n",
    "    \"\"\"Assign closest ground-truth bounding boxes to anchor boxes.\"\"\"\n",
    "    num_anchors, num_gt_boxes = anchors.shape[0], ground_truth.shape[0]\n",
    "    # Element x_ij in the i-th row and j-th column is the IoU of the anchor\n",
    "    # box i and the ground-truth bounding box j\n",
    "    jaccard = box_iou(anchors, ground_truth)\n",
    "    print('jaccard: ', jaccard)\n",
    "    # Initialize the tensor to hold the assigned ground-truth bounding box for\n",
    "    # each anchor\n",
    "    anchors_bbox_map = tf.fill((num_anchors,), -1)\n",
    "    print('anchors_bbox_map: ', anchors_bbox_map)\n",
    "    # Assign ground-truth bounding boxes according to the threshold\n",
    "    # print(tf.math.reduce_max(jaccard, axis=1))\n",
    "    \n",
    "    max_ious = tf.math.reduce_max(jaccard, axis=1)\n",
    "    indices = tf.math.argmax(jaccard, axis=1)\n",
    "    print('max_ious, indices: ', max_ious, indices)\n",
    "    anc_i = tf.where(max_ious >= iou_threshold).reshape(-1)\n",
    "    print('anc_i: ', anc_i)\n",
    "    box_j = indices[max_ious >= iou_threshold]\n",
    "    print('box_j: ', box_j)\n",
    "    anchors_bbox_map_np = np.array(anchors_bbox_map)\n",
    "    anchors_bbox_map_np[np.array(anc_i[:])] = box_j\n",
    "    print('anchors_bbox_map: ', anchors_bbox_map_np)\n",
    "    col_discard = tf.fill((num_anchors,), -1)\n",
    "    row_discard = tf.fill((num_gt_boxes,), -1)\n",
    "    print('row_discard, col_discard: ', row_discard, col_discard)\n",
    "    jaccard = np.array(jaccard)\n",
    "    for i in range(num_gt_boxes):\n",
    "        max_idx = tf.math.argmax(jaccard[:, i])  # Find the largest IoU\n",
    "        # print('max_idx: ', max_idx)\n",
    "        box_idx = i\n",
    "        anc_idx = max_idx\n",
    "        print('box_idx, anc_idx: ', box_idx, anc_idx)\n",
    "        anchors_bbox_map_np[anc_idx] = box_idx\n",
    "        jaccard[:, box_idx] = col_discard\n",
    "        jaccard[anc_idx, :] = row_discard\n",
    "    # print('jaccard: ', jaccard)\n",
    "    return tf.convert_to_tensor(anchors_bbox_map_np)"
   ]
  },
  {
   "cell_type": "code",
   "execution_count": 304,
   "id": "f71df894-a6ee-41a4-bd87-ad9dd9d87c93",
   "metadata": {},
   "outputs": [],
   "source": [
    "ground_truth = tf.convert_to_tensor([[0, 0.51, 0.35, 0.76, 0.8],\n",
    "                         [1, 0.34, 0.42, 0.48, 0.78],\n",
    "                        [1, 0.3, 0.42, 0.4, 0.7]])\n",
    "anchors = tf.convert_to_tensor([[0, 0.1, 0.2, 0.3], [0.51, 0.37, 0.7, 0.84],\n",
    "                    [0.34, 0.40, 0.5, 0.72], [0.3, 0.42, 0.4, 0.7],\n",
    "                    [0.3, 0.42, 0.48, 0.78]])"
   ]
  },
  {
   "cell_type": "code",
   "execution_count": 300,
   "id": "fdc6afbd-6e57-4df3-bab5-b80b3001c57c",
   "metadata": {},
   "outputs": [
    {
     "data": {
      "text/plain": [
       "<tf.Tensor: shape=(5, 3), dtype=float32, numpy=\n",
       "array([[0.        , 0.        , 0.        ],\n",
       "       [0.68026644, 0.        , 0.        ],\n",
       "       [0.        , 0.7046982 , 0.26923078],\n",
       "       [0.27667972, 0.        , 0.        ],\n",
       "       [0.        , 0.77777773, 0.43209884]], dtype=float32)>"
      ]
     },
     "execution_count": 300,
     "metadata": {},
     "output_type": "execute_result"
    }
   ],
   "source": [
    "jaccard = box_iou(anchors, ground_truth[:, 1:])\n",
    "jaccard"
   ]
  },
  {
   "cell_type": "code",
   "execution_count": 424,
   "id": "5b7f5aa0-0fe1-4a03-ab0d-317b4e0f4630",
   "metadata": {},
   "outputs": [],
   "source": [
    "def box_corner_to_center(cords):\n",
    "    try:\n",
    "        ret = cords.numpy()\n",
    "    except:\n",
    "        ret = np.copy(cords)\n",
    "    ret[:, 0] = cords[:, 0] + (cords[:, 2] - cords[:, 0]) / 2\n",
    "    ret[:, 1] = cords[:, 1] + (cords[:, 3] - cords[:, 1]) / 2\n",
    "    ret[:, 2] = cords[:, 2] - cords[:, 0]\n",
    "    ret[:, 3] = cords[:, 3] - cords[:, 1]\n",
    "    return tf.convert_to_tensor(ret)"
   ]
  },
  {
   "cell_type": "code",
   "execution_count": 468,
   "id": "8b5878ad-12af-46a7-b8db-9cb59806bbfb",
   "metadata": {},
   "outputs": [],
   "source": [
    "def box_center_to_corner(cords):\n",
    "    try:\n",
    "        ret = cords.numpy()\n",
    "    except:\n",
    "        ret = np.copy(cords)\n",
    "    ret[:, 0] = cords[:, 0] - cords[:, 2] / 2\n",
    "    ret[:, 1] = cords[:, 1] - cords[:, 3] / 2\n",
    "    ret[:, 2] = ret[:, 2] + ret[:, 0]\n",
    "    ret[:, 3] = ret[:, 3] + ret[:, 1]\n",
    "    return tf.convert_to_tensor(ret)"
   ]
  },
  {
   "cell_type": "code",
   "execution_count": 435,
   "id": "408916df-bf28-45cc-8a7d-f80064bfb3f1",
   "metadata": {},
   "outputs": [],
   "source": [
    "def offset_boxes(anchors, assigned_bb, eps=1e-6):\n",
    "    print(\"offset_boxes\", anchors.shape, assigned_bb.shape)\n",
    "    print(assigned_bb, assigned_bb)\n",
    "    \"\"\"Transform for anchor box offsets.\"\"\"\n",
    "    # change anchors to yolo form (cx, cy, width, height)\n",
    "    c_anc = box_corner_to_center(anchors)\n",
    "    print('c_anc: ', c_anc)\n",
    "    # change bbox to yolo form (cx, cy, width, height)\n",
    "    c_assigned_bb = box_corner_to_center(assigned_bb)\n",
    "    print('c_assigned_bb: ', c_assigned_bb)\n",
    "    offset_xy = 10 * (c_assigned_bb[:, :2] - c_anc[:, :2]) / c_anc[:, 2:]\n",
    "    offset_wh = 5 * tf.math.log(eps + c_assigned_bb[:, 2:] / c_anc[:, 2:])\n",
    "    offset = tf.concat([offset_xy, offset_wh], axis=1)\n",
    "    return offset"
   ]
  },
  {
   "cell_type": "code",
   "execution_count": 440,
   "id": "7e992047-8350-4d4d-80d3-93590a3f2ab7",
   "metadata": {},
   "outputs": [],
   "source": [
    "def multibox_target(anchors, labels):\n",
    "    \"\"\"Label anchor boxes using ground-truth bounding boxes.\"\"\"\n",
    "    batch_size, anchors = labels.shape[0], anchors[0]\n",
    "    batch_offset, batch_mask, batch_class_labels = [], [], []\n",
    "    device, num_anchors = anchors.device, anchors.shape[0]\n",
    "    for i in range(batch_size):\n",
    "        label = labels[i, :, :]\n",
    "        anchors_bbox_map = assign_anchor_to_bbox(label[:, 1:], anchors)\n",
    "        print('anchors_bbox_map: ', anchors_bbox_map)\n",
    "        bbox_mask = (anchors_bbox_map >= 0).numpy().repeat(4, 0).reshape(-1, 4).astype('float16')\n",
    "        print('bbox_mask: ', bbox_mask)\n",
    "        # Initialize class labels and assigned bounding box coordinates with\n",
    "        # zeros\n",
    "        class_labels = tf.zeros(num_anchors)\n",
    "        assigned_bb = tf.zeros((num_anchors, 4))\n",
    "        print('class_labels, assigned_bb: ', class_labels, assigned_bb)\n",
    "        # Label classes of anchor boxes using their assigned ground-truth\n",
    "        # bounding boxes. If an anchor box is not assigned any, we label its\n",
    "        # class as background (the value remains zero)\n",
    "        indices_true = tf.where(anchors_bbox_map >= 0)\n",
    "        print('indices_true: ', indices_true)\n",
    "        bb_idx = anchors_bbox_map[indices_true]\n",
    "        print('bb_idx: ', bb_idx)\n",
    "        # print(' class_labels: ', label[bb_idx, 0] + 1)\n",
    "        class_labels = class_labels.numpy()\n",
    "        class_labels[np.array(indices_true)] = label[bb_idx, 0] + 1\n",
    "        assigned_bb = assigned_bb.numpy()\n",
    "        assigned_bb[np.array(indices_true)] = label[bb_idx, 1:]\n",
    "        print('class_labels, assigned_bb after: ', class_labels, assigned_bb)\n",
    "        # Offset transformation\n",
    "        offset = offset_boxes(anchors, assigned_bb) * bbox_mask\n",
    "        print('offset: ', offset)\n",
    "        batch_offset.append(offset.reshape(-1))\n",
    "        batch_mask.append(bbox_mask.reshape(-1))\n",
    "        batch_class_labels.append(class_labels)\n",
    "    bbox_offset = tf.stack(batch_offset)\n",
    "    bbox_mask = tf.stack(batch_mask)\n",
    "    class_labels = tf.stack(batch_class_labels)\n",
    "    return (bbox_offset, bbox_mask, class_labels)"
   ]
  },
  {
   "cell_type": "code",
   "execution_count": 441,
   "id": "ba4ed27e-9e08-4182-8776-6597953f0ac8",
   "metadata": {},
   "outputs": [
    {
     "name": "stdout",
     "output_type": "stream",
     "text": [
      "jaccard:  tf.Tensor(\n",
      "[[0.         0.         0.        ]\n",
      " [0.68026644 0.         0.        ]\n",
      " [0.         0.7046982  0.26923078]\n",
      " [0.         0.27272734 1.        ]\n",
      " [0.         0.77777773 0.43209884]], shape=(5, 3), dtype=float32)\n",
      "anchors_bbox_map:  tf.Tensor([-1 -1 -1 -1 -1], shape=(5,), dtype=int32)\n",
      "max_ious, indices:  tf.Tensor([0.         0.68026644 0.7046982  1.         0.77777773], shape=(5,), dtype=float32) tf.Tensor([0 0 1 2 1], shape=(5,), dtype=int64)\n",
      "anc_i:  tf.Tensor([1 2 3 4], shape=(4,), dtype=int64)\n",
      "box_j:  tf.Tensor([0 1 2 1], shape=(4,), dtype=int64)\n",
      "anchors_bbox_map:  [-1  0  1  2  1]\n",
      "row_discard, col_discard:  tf.Tensor([-1 -1 -1], shape=(3,), dtype=int32) tf.Tensor([-1 -1 -1 -1 -1], shape=(5,), dtype=int32)\n",
      "box_idx, anc_idx:  0 tf.Tensor(1, shape=(), dtype=int64)\n",
      "box_idx, anc_idx:  1 tf.Tensor(4, shape=(), dtype=int64)\n",
      "box_idx, anc_idx:  2 tf.Tensor(3, shape=(), dtype=int64)\n",
      "anchors_bbox_map:  tf.Tensor([-1  0  1  2  1], shape=(5,), dtype=int32)\n",
      "bbox_mask:  [[0. 0. 0. 0.]\n",
      " [1. 1. 1. 1.]\n",
      " [1. 1. 1. 1.]\n",
      " [1. 1. 1. 1.]\n",
      " [1. 1. 1. 1.]]\n",
      "class_labels, assigned_bb:  tf.Tensor([0. 0. 0. 0. 0.], shape=(5,), dtype=float32) tf.Tensor(\n",
      "[[0. 0. 0. 0.]\n",
      " [0. 0. 0. 0.]\n",
      " [0. 0. 0. 0.]\n",
      " [0. 0. 0. 0.]\n",
      " [0. 0. 0. 0.]], shape=(5, 4), dtype=float32)\n",
      "indices_true:  tf.Tensor(\n",
      "[[1]\n",
      " [2]\n",
      " [3]\n",
      " [4]], shape=(4, 1), dtype=int64)\n",
      "bb_idx:  tf.Tensor(\n",
      "[[0]\n",
      " [1]\n",
      " [2]\n",
      " [1]], shape=(4, 1), dtype=int32)\n",
      "class_labels, assigned_bb after:  [0. 1. 2. 2. 2.] [[0.   0.   0.   0.  ]\n",
      " [0.51 0.35 0.76 0.8 ]\n",
      " [0.34 0.42 0.48 0.78]\n",
      " [0.3  0.42 0.4  0.7 ]\n",
      " [0.34 0.42 0.48 0.78]]\n",
      "offset_boxes (5, 4) (5, 4)\n",
      "[[0.   0.   0.   0.  ]\n",
      " [0.51 0.35 0.76 0.8 ]\n",
      " [0.34 0.42 0.48 0.78]\n",
      " [0.3  0.42 0.4  0.7 ]\n",
      " [0.34 0.42 0.48 0.78]] [[0.   0.   0.   0.  ]\n",
      " [0.51 0.35 0.76 0.8 ]\n",
      " [0.34 0.42 0.48 0.78]\n",
      " [0.3  0.42 0.4  0.7 ]\n",
      " [0.34 0.42 0.48 0.78]]\n",
      "c_anc:  tf.Tensor(\n",
      "[[0.1        0.20000002 0.2        0.20000002]\n",
      " [0.605      0.605      0.19       0.46999997]\n",
      " [0.42000002 0.56       0.16       0.32000002]\n",
      " [0.35000002 0.56       0.09999999 0.28      ]\n",
      " [0.39       0.59999996 0.17999998 0.35999998]], shape=(5, 4), dtype=float32)\n",
      "c_assigned_bb:  tf.Tensor(\n",
      "[[0.         0.         0.         0.        ]\n",
      " [0.635      0.575      0.25       0.45000002]\n",
      " [0.41       0.59999996 0.13999999 0.35999998]\n",
      " [0.35000002 0.56       0.09999999 0.28      ]\n",
      " [0.41       0.59999996 0.13999999 0.35999998]], shape=(5, 4), dtype=float32)\n",
      "offset:  tf.Tensor(\n",
      "[[-0.0000000e+00 -0.0000000e+00 -0.0000000e+00 -0.0000000e+00]\n",
      " [ 1.5789459e+00 -6.3829857e-01  1.3721877e+00 -2.1741962e-01]\n",
      " [-6.2500125e-01  1.2499987e+00 -6.6765153e-01  5.8891886e-01]\n",
      " [ 0.0000000e+00  0.0000000e+00  4.7683693e-06  4.7683693e-06]\n",
      " [ 1.1111119e+00  0.0000000e+00 -1.2565656e+00  4.7683693e-06]], shape=(5, 4), dtype=float32)\n"
     ]
    }
   ],
   "source": [
    "labels = multibox_target(tf.expand_dims(anchors, 0), tf.expand_dims(ground_truth, 0))"
   ]
  },
  {
   "cell_type": "code",
   "execution_count": 443,
   "id": "71281488-383d-48a2-a968-bbfe5c259553",
   "metadata": {},
   "outputs": [
    {
     "data": {
      "text/plain": [
       "<tf.Tensor: shape=(1, 5), dtype=float32, numpy=array([[0., 1., 2., 2., 2.]], dtype=float32)>"
      ]
     },
     "execution_count": 443,
     "metadata": {},
     "output_type": "execute_result"
    }
   ],
   "source": [
    "labels[2]"
   ]
  },
  {
   "cell_type": "code",
   "execution_count": 444,
   "id": "0b230025-bafc-4142-9cf2-25542ce6ec1b",
   "metadata": {},
   "outputs": [
    {
     "data": {
      "text/plain": [
       "<tf.Tensor: shape=(1, 20), dtype=float16, numpy=\n",
       "array([[0., 0., 0., 0., 1., 1., 1., 1., 1., 1., 1., 1., 1., 1., 1., 1.,\n",
       "        1., 1., 1., 1.]], dtype=float16)>"
      ]
     },
     "execution_count": 444,
     "metadata": {},
     "output_type": "execute_result"
    }
   ],
   "source": [
    "labels[1]"
   ]
  },
  {
   "cell_type": "code",
   "execution_count": 446,
   "id": "e48482da-175d-401c-829f-cc853ff39b57",
   "metadata": {},
   "outputs": [
    {
     "data": {
      "text/plain": [
       "<tf.Tensor: shape=(1, 20), dtype=float32, numpy=\n",
       "array([[-0.0000000e+00, -0.0000000e+00, -0.0000000e+00, -0.0000000e+00,\n",
       "         1.5789459e+00, -6.3829857e-01,  1.3721877e+00, -2.1741962e-01,\n",
       "        -6.2500125e-01,  1.2499987e+00, -6.6765153e-01,  5.8891886e-01,\n",
       "         0.0000000e+00,  0.0000000e+00,  4.7683693e-06,  4.7683693e-06,\n",
       "         1.1111119e+00,  0.0000000e+00, -1.2565656e+00,  4.7683693e-06]],\n",
       "      dtype=float32)>"
      ]
     },
     "execution_count": 446,
     "metadata": {},
     "output_type": "execute_result"
    }
   ],
   "source": [
    "labels[0]"
   ]
  },
  {
   "cell_type": "code",
   "execution_count": null,
   "id": "43e80d25-3635-4c1d-a001-4e6adbefd57f",
   "metadata": {},
   "outputs": [],
   "source": []
  },
  {
   "cell_type": "code",
   "execution_count": null,
   "id": "13497300-8b00-48c3-acdf-a9a099358c1b",
   "metadata": {},
   "outputs": [],
   "source": []
  },
  {
   "cell_type": "code",
   "execution_count": null,
   "id": "d08bfc12-2e76-48fd-b2c2-dfd6cdd7c3e2",
   "metadata": {},
   "outputs": [],
   "source": []
  },
  {
   "cell_type": "code",
   "execution_count": 462,
   "id": "04a736d9-142b-4d33-9557-7a132940a9e1",
   "metadata": {},
   "outputs": [],
   "source": [
    "def offset_inverse(anchors, offset_preds):\n",
    "    \"\"\"Predict bounding boxes based on anchor boxes with predicted offsets.\"\"\"\n",
    "    anc = box_corner_to_center(anchors)\n",
    "    pred_bbox_xy = (offset_preds[:, :2] * anc[:, 2:] / 10) + anc[:, :2]\n",
    "    pred_bbox_wh = tf.math.exp(offset_preds[:, 2:] / 5) * anc[:, 2:]\n",
    "    pred_bbox = tf.concat((pred_bbox_xy, pred_bbox_wh), axis=1)\n",
    "    predicted_bbox = box_center_to_corner(pred_bbox)\n",
    "    return predicted_bbox"
   ]
  },
  {
   "cell_type": "code",
   "execution_count": 487,
   "id": "9181a2b8-ddcc-4b27-a940-e4b592565901",
   "metadata": {},
   "outputs": [],
   "source": [
    "\n",
    "def nms(boxes, scores, iou_threshold):\n",
    "    \"\"\"Sort confidence scores of predicted bounding boxes.\"\"\"\n",
    "    B = tf.argsort(scores, axis=-1, direction='DESCENDING')\n",
    "    keep = []  # Indices of predicted bounding boxes that will be kept\n",
    "    while B.numpy().size > 0:\n",
    "        i = B[0]\n",
    "        keep.append(i)\n",
    "        if B.numpy().size == 1: break\n",
    "        iou = box_iou(boxes[i, :].reshape(-1, 4),\n",
    "                      boxes[B[1:], :].reshape(-1, 4)).reshape(-1)\n",
    "        inds = tf.where(iou <= iou_threshold).reshape(-1)\n",
    "        B = B[inds + 1]\n",
    "    return tf.convert_to_tensor(keep)"
   ]
  },
  {
   "cell_type": "code",
   "execution_count": 545,
   "id": "e50d7f2c-238a-4ead-a2a1-cacb281a8073",
   "metadata": {},
   "outputs": [],
   "source": [
    "\n",
    "def multibox_detection(cls_probs, offset_preds, anchors, nms_threshold=0.5,\n",
    "                       pos_threshold=0.009999999):\n",
    "    \"\"\"Predict bounding boxes using non-maximum suppression.\"\"\"\n",
    "    device, batch_size = cls_probs.device, cls_probs.shape[0]\n",
    "    anchors = anchors[0]\n",
    "    num_classes, num_anchors = cls_probs.shape[1], cls_probs.shape[2]\n",
    "    out = []\n",
    "    for i in range(batch_size):\n",
    "        cls_prob, offset_pred = cls_probs[i], offset_preds[i].reshape(-1, 4)\n",
    "        # conf, class_id = torch.max(cls_prob[1:], 0)\n",
    "        conf = tf.math.reduce_max(cls_prob[1:], axis=0)\n",
    "        class_id = tf.math.argmax(cls_prob[1:], axis=0)\n",
    "        print('conf, class_id: ', conf, class_id)\n",
    "        predicted_bb = offset_inverse(anchors, offset_pred)\n",
    "        print('predicted_bb: ', predicted_bb)\n",
    "        keep = nms(predicted_bb, conf, nms_threshold)\n",
    "        print('keep: ', keep)\n",
    "        # Find all non-`keep` indices and set the class to background\n",
    "        all_idx = tf.range(num_anchors)\n",
    "        combined = tf.concat((keep, all_idx), axis=0)\n",
    "        print('combined: ', combined)\n",
    "        uniques, counts = np.unique(combined, return_counts=True)\n",
    "        non_keep = uniques[counts == 1]\n",
    "        all_id_sorted = tf.concat((keep, non_keep), axis=0)\n",
    "        print('all_id_sorted: ', all_id_sorted)\n",
    "        class_id_np = class_id.numpy()\n",
    "        class_id_np[non_keep] = -1\n",
    "        print('class_id_np: ', class_id_np)\n",
    "        class_id_np = class_id_np[all_id_sorted.numpy()]\n",
    "        conf, predicted_bb = conf[all_id_sorted], predicted_bb[all_id_sorted]\n",
    "        # Here `pos_threshold` is a threshold for positive (non-background)\n",
    "        # predictions\n",
    "        \n",
    "        below_min_idx = (conf < pos_threshold)\n",
    "        class_id_np[below_min_idx.numpy()] = -1\n",
    "        \n",
    "        conf = conf.numpy()\n",
    "        conf[below_min_idx.numpy()] = 1 - conf[below_min_idx.numpy()]\n",
    "        \n",
    "        conf = tf.convert_to_tensor(conf, dtype=tf.float64)\n",
    "        class_id_np = tf.convert_to_tensor(class_id_np, dtype=tf.float64)\n",
    "        \n",
    "        print(class_id_np, conf, predicted_bb)\n",
    "        pred_info = tf.concat((tf.expand_dims(class_id_np, 1), tf.expand_dims(conf, 1), predicted_bb), axis=1)\n",
    "        out.append(pred_info)\n",
    "    return tf.stack(out)"
   ]
  },
  {
   "cell_type": "code",
   "execution_count": 502,
   "id": "88b03734-c891-43aa-ba8d-5b13c72e1c45",
   "metadata": {},
   "outputs": [],
   "source": [
    "ground_truth = tf.convert_to_tensor([[0, 0.51, 0.35, 0.76, 0.8],\n",
    "                         [1, 0.34, 0.42, 0.48, 0.78],\n",
    "                        [1, 0.3, 0.42, 0.4, 0.7]])\n",
    "anchors = tf.convert_to_tensor([[0, 0.1, 0.2, 0.3], [0.51, 0.37, 0.7, 0.84],\n",
    "                    [0.34, 0.40, 0.5, 0.72], [0.3, 0.42, 0.4, 0.7],\n",
    "                    [0.3, 0.42, 0.48, 0.78]])\n",
    "\n",
    "# offset_preds = tf.convert_to_tensor([0] * (len(anchors.numpy()) * len(anchors.numpy()[0])))\n",
    "offset_preds = tf.convert_to_tensor([0] * anchors.numpy().size)\n",
    "# print(offset_preds)\n",
    "\n",
    "cls_probs = tf.convert_to_tensor([[0] * 5,  # Predicted background likelihood\n",
    "                      [0.9, 0.65, 0.7, 0.1, 0.02],  # Predicted dog likelihood\n",
    "                      [0.1, 0.2, 0.3, 0.9, 0.3]])  # Predicted cat likelihood"
   ]
  },
  {
   "cell_type": "code",
   "execution_count": 554,
   "id": "7f69555d-27a7-4609-86ba-c0c924017603",
   "metadata": {},
   "outputs": [
    {
     "name": "stdout",
     "output_type": "stream",
     "text": [
      "conf, class_id:  tf.Tensor([0.9  0.65 0.7  0.9  0.3 ], shape=(5,), dtype=float32) tf.Tensor([0 0 0 1 1], shape=(5,), dtype=int64)\n",
      "predicted_bb:  tf.Tensor(\n",
      "[[0.         0.10000001 0.2        0.30000003]\n",
      " [0.51000002 0.37000003 0.70000002 0.84      ]\n",
      " [0.34000002 0.39999999 0.50000001 0.72000001]\n",
      " [0.30000003 0.42       0.40000002 0.7       ]\n",
      " [0.3        0.41999997 0.47999997 0.77999996]], shape=(5, 4), dtype=float64)\n",
      "keep:  tf.Tensor([0 3 2 1], shape=(4,), dtype=int32)\n",
      "combined:  tf.Tensor([0 3 2 1 0 1 2 3 4], shape=(9,), dtype=int32)\n",
      "all_id_sorted:  tf.Tensor([0 3 2 1 4], shape=(5,), dtype=int32)\n",
      "class_id_np:  [ 0  0  0  1 -1]\n",
      "tf.Tensor([ 0.  1.  0.  0. -1.], shape=(5,), dtype=float64) tf.Tensor([0.89999998 0.89999998 0.69999999 0.64999998 0.30000001], shape=(5,), dtype=float64) tf.Tensor(\n",
      "[[0.         0.10000001 0.2        0.30000003]\n",
      " [0.30000003 0.42       0.40000002 0.7       ]\n",
      " [0.34000002 0.39999999 0.50000001 0.72000001]\n",
      " [0.51000002 0.37000003 0.70000002 0.84      ]\n",
      " [0.3        0.41999997 0.47999997 0.77999996]], shape=(5, 4), dtype=float64)\n",
      "CPU times: total: 78.1 ms\n",
      "Wall time: 88 ms\n"
     ]
    },
    {
     "data": {
      "text/plain": [
       "<tf.Tensor: shape=(1, 5, 6), dtype=float64, numpy=\n",
       "array([[[ 0.        ,  0.89999998,  0.        ,  0.10000001,\n",
       "          0.2       ,  0.30000003],\n",
       "        [ 1.        ,  0.89999998,  0.30000003,  0.42      ,\n",
       "          0.40000002,  0.7       ],\n",
       "        [ 0.        ,  0.69999999,  0.34000002,  0.39999999,\n",
       "          0.50000001,  0.72000001],\n",
       "        [ 0.        ,  0.64999998,  0.51000002,  0.37000003,\n",
       "          0.70000002,  0.84      ],\n",
       "        [-1.        ,  0.30000001,  0.3       ,  0.41999997,\n",
       "          0.47999997,  0.77999996]]])>"
      ]
     },
     "execution_count": 554,
     "metadata": {},
     "output_type": "execute_result"
    }
   ],
   "source": [
    "%%time\n",
    "output = multibox_detection(tf.expand_dims(cls_probs, 0), tf.expand_dims(offset_preds, 0), tf.expand_dims(anchors, 0), nms_threshold=0.5)\n",
    "output"
   ]
  },
  {
   "cell_type": "code",
   "execution_count": null,
   "id": "f8d5c4fc-3a1c-4aed-986e-853533641139",
   "metadata": {},
   "outputs": [],
   "source": []
  },
  {
   "cell_type": "code",
   "execution_count": null,
   "id": "ff1553b3-87b9-4f56-91c0-767a7e7c29bf",
   "metadata": {},
   "outputs": [],
   "source": []
  }
 ],
 "metadata": {
  "kernelspec": {
   "display_name": "Python 3 (ipykernel)",
   "language": "python",
   "name": "python3"
  },
  "language_info": {
   "codemirror_mode": {
    "name": "ipython",
    "version": 3
   },
   "file_extension": ".py",
   "mimetype": "text/x-python",
   "name": "python",
   "nbconvert_exporter": "python",
   "pygments_lexer": "ipython3",
   "version": "3.9.12"
  }
 },
 "nbformat": 4,
 "nbformat_minor": 5
}
